{
 "cells": [
  {
   "cell_type": "code",
   "execution_count": 4,
   "id": "61c2f09b",
   "metadata": {},
   "outputs": [],
   "source": [
    "import tkinter as tk\n",
    "from tkinter import messagebox\n",
    "import speech_recognition as sr\n",
    "\n",
    "def recognize_speech():\n",
    "    global r\n",
    "    try:\n",
    "        with sr.Microphone() as source:\n",
    "            audio = r.listen(source)\n",
    "            text = r.recognize_google(audio)\n",
    "            text = text.lower()\n",
    "            messagebox.showinfo(\"Recognized Text\", text)\n",
    "    except sr.UnknownValueError:\n",
    "        messagebox.showerror(\"Error\", \"Sorry, could not understand audio.\")\n",
    "    except sr.RequestError as e:\n",
    "        messagebox.showerror(\"Error\", \"Could not request results from Google Speech Recognition service; {0}\".format(e))\n",
    "\n",
    "\n",
    "root = tk.Tk()\n",
    "root.title(\"Speech Recognition\")\n",
    "\n",
    "root.configure(bg=\"lightblue\")\n",
    "root.geometry(\"300x300\")  \n",
    "\n",
    "label = tk.Label(root, text=\"Recognized Text: \")\n",
    "label.pack(pady=20)\n",
    "\n",
    "button = tk.Button(root, text=\"Click to Speak\", command=recognize_speech)\n",
    "button.pack(pady=40)\n",
    "\n",
    "\n",
    "\n",
    "r = sr.Recognizer()\n",
    "\n",
    "\n",
    "root.mainloop()\n"
   ]
  },
  {
   "cell_type": "code",
   "execution_count": null,
   "id": "100dc33b",
   "metadata": {},
   "outputs": [],
   "source": []
  }
 ],
 "metadata": {
  "kernelspec": {
   "display_name": "Python 3 (ipykernel)",
   "language": "python",
   "name": "python3"
  },
  "language_info": {
   "codemirror_mode": {
    "name": "ipython",
    "version": 3
   },
   "file_extension": ".py",
   "mimetype": "text/x-python",
   "name": "python",
   "nbconvert_exporter": "python",
   "pygments_lexer": "ipython3",
   "version": "3.11.5"
  }
 },
 "nbformat": 4,
 "nbformat_minor": 5
}
